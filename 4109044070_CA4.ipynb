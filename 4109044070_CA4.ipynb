{
  "nbformat": 4,
  "nbformat_minor": 0,
  "metadata": {
    "colab": {
      "provenance": []
    },
    "kernelspec": {
      "name": "python3",
      "display_name": "Python 3"
    },
    "language_info": {
      "name": "python"
    }
  },
  "cells": [
    {
      "cell_type": "code",
      "execution_count": 1,
      "metadata": {
        "colab": {
          "base_uri": "https://localhost:8080/"
        },
        "id": "UKBR6Lu3ZHIr",
        "outputId": "bb708263-dd13-421c-c285-e01154985a6f"
      },
      "outputs": [
        {
          "output_type": "stream",
          "name": "stdout",
          "text": [
            "學生列表：\n",
            "(1, 'Alice', 20, 90.5)\n",
            "(2, 'Bob', 21, 85.0)\n"
          ]
        }
      ],
      "source": [
        "import sqlite3\n",
        "\n",
        "# 連接到 SQLite 資料庫（如果不存在，則會自動S創建）\n",
        "conn = sqlite3.connect('student.db')\n",
        "cursor = conn.cursor()\n",
        "\n",
        "# 建立名為 \"students\" 的表格\n",
        "cursor.execute('''\n",
        "    CREATE TABLE IF NOT EXISTS students (\n",
        "        id INTEGER PRIMARY KEY,\n",
        "        name TEXT,\n",
        "        age INTEGER,\n",
        "        grade REAL\n",
        "    )\n",
        "''')\n",
        "\n",
        "# 增加兩筆資料\n",
        "cursor.execute(\"INSERT INTO students (name, age, grade) VALUES ('Alice', 20, 90.5)\")\n",
        "cursor.execute(\"INSERT INTO students (name, age, grade) VALUES ('Bob', 21, 85.0)\")\n",
        "\n",
        "# 提交變更\n",
        "conn.commit()\n",
        "\n",
        "# 查詢資料表中的所有資料\n",
        "cursor.execute(\"SELECT * FROM students\")\n",
        "students = cursor.fetchall()\n",
        "\n",
        "print(\"學生列表：\")\n",
        "for student in students:\n",
        "    print(student)\n",
        "\n",
        "# 將 Alice 的 grade 改為 95\n",
        "cursor.execute(\"UPDATE students SET grade = 95.0 WHERE name = 'Alice'\")\n",
        "conn.commit()\n",
        "\n",
        "# 刪除 Bob 的整筆資料\n",
        "cursor.execute(\"DELETE FROM students WHERE name = 'Bob'\")\n",
        "conn.commit()\n",
        "\n",
        "# 關閉 cursor 和連接\n",
        "cursor.close()\n",
        "conn.close()\n",
        "\n"
      ]
    }
  ]
}