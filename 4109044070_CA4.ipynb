{
  "nbformat": 4,
  "nbformat_minor": 0,
  "metadata": {
    "colab": {
      "provenance": []
    },
    "kernelspec": {
      "name": "python3",
      "display_name": "Python 3"
    },
    "language_info": {
      "name": "python"
    }
  },
  "cells": [
    {
      "cell_type": "code",
      "execution_count": 1,
      "metadata": {
        "colab": {
          "base_uri": "https://localhost:8080/"
        },
        "id": "V_hj61QC7PP-",
        "outputId": "801e98de-15d7-4efc-c6f8-b6ef39e6de70"
      },
      "outputs": [
        {
          "output_type": "stream",
          "name": "stdout",
          "text": [
            "所有肉品資料：\n",
            "(1, 'chicken', 30, 5)\n",
            "(2, 'beaf', 55, 10)\n",
            "(3, 'pork', 40, 15)\n",
            "\n",
            "更新後的肉品資料：\n",
            "(1, 'chicken', 30, 30)\n",
            "(2, 'beaf', 55, 10)\n",
            "(3, 'pork', 35, 15)\n",
            "\n",
            "最終的肉品資料：\n",
            "(1, 'chicken', 30, 30)\n",
            "(2, 'beaf', 55, 10)\n",
            "(3, 'pork', 35, 15)\n"
          ]
        }
      ],
      "source": [
        "import sqlite3\n",
        "\n",
        "conn = sqlite3.connect('BBQ.db')\n",
        "cursor = conn.cursor()\n",
        "\n",
        "cursor.execute('''\n",
        "    CREATE TABLE IF NOT EXISTS meat (\n",
        "        id INTEGER PRIMARY KEY,\n",
        "        name TEXT,\n",
        "        price INTEGER,\n",
        "        quantity INTEGER\n",
        "    )\n",
        "''')\n",
        "\n",
        "cursor.execute(\"INSERT INTO meat (name, price, quantity) VALUES ('chicken', 30, 5)\")\n",
        "cursor.execute(\"INSERT INTO meat (name, price, quantity) VALUES ('beaf', 55, 10)\")\n",
        "cursor.execute(\"INSERT INTO meat (name, price, quantity) VALUES ('pork', 40, 15)\")\n",
        "\n",
        "conn.commit()\n",
        "\n",
        "cursor.execute(\"SELECT * FROM meat\")\n",
        "all_meat = cursor.fetchall()\n",
        "print(\"所有肉品資料：\")\n",
        "for meat in all_meat:\n",
        "    print(meat)\n",
        "\n",
        "cursor.execute(\"UPDATE meat SET price = 35 WHERE name = 'pork'\")\n",
        "cursor.execute(\"UPDATE meat SET quantity = 30 WHERE name = 'chicken'\")\n",
        "conn.commit()\n",
        "\n",
        "cursor.execute(\"SELECT * FROM meat\")\n",
        "all_meat = cursor.fetchall()\n",
        "print(\"\\n更新後的肉品資料：\")\n",
        "for meat in all_meat:\n",
        "    print(meat)\n",
        "\n",
        "cursor.execute(\"DELETE FROM meat WHERE price = ?\", (40,))\n",
        "conn.commit()\n",
        "\n",
        "cursor.execute(\"SELECT * FROM meat\")\n",
        "all_meat = cursor.fetchall()\n",
        "print(\"\\n最終的肉品資料：\")\n",
        "for meat in all_meat:\n",
        "    print(meat)\n",
        "\n",
        "cursor.close()\n",
        "conn.close()"
      ]
    }
  ]
}