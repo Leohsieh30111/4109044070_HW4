{
  "nbformat": 4,
  "nbformat_minor": 0,
  "metadata": {
    "colab": {
      "provenance": []
    },
    "kernelspec": {
      "name": "python3",
      "display_name": "Python 3"
    },
    "language_info": {
      "name": "python"
    }
  },
  "cells": [
    {
      "cell_type": "code",
      "execution_count": 2,
      "metadata": {
        "colab": {
          "base_uri": "https://localhost:8080/"
        },
        "id": "UKBR6Lu3ZHIr",
        "outputId": "962fe2b7-ffea-49ce-9c3a-f4daee6e780c"
      },
      "outputs": [
        {
          "output_type": "stream",
          "name": "stdout",
          "text": [
            "學生列表：\n",
            "(1, 'Alice', 20, 95.0)\n",
            "(2, 'Alice', 20, 90.5)\n",
            "(3, 'Bob', 21, 85.0)\n"
          ]
        }
      ],
      "source": [
        "import sqlite3\n",
        "\n",
        "conn = sqlite3.connect('student.db')\n",
        "cursor = conn.cursor()\n",
        "\n",
        "cursor.execute('''\n",
        "    CREATE TABLE IF NOT EXISTS students (\n",
        "        id INTEGER PRIMARY KEY,\n",
        "        name TEXT,\n",
        "        age INTEGER,\n",
        "        grade REAL\n",
        "    )\n",
        "''')\n",
        "\n",
        "cursor.execute(\"INSERT INTO students (name, age, grade) VALUES ('Alice', 20, 90.5)\")\n",
        "cursor.execute(\"INSERT INTO students (name, age, grade) VALUES ('Bob', 21, 85.0)\")\n",
        "\n",
        "conn.commit()\n",
        "\n",
        "cursor.execute(\"SELECT * FROM students\")\n",
        "students = cursor.fetchall()\n",
        "\n",
        "print(\"學生列表：\")\n",
        "for student in students:\n",
        "    print(student)\n",
        "\n",
        "cursor.execute(\"UPDATE students SET grade = 95.0 WHERE name = 'Alice'\")\n",
        "conn.commit()\n",
        "\n",
        "cursor.execute(\"DELETE FROM students WHERE name = 'Bob'\")\n",
        "conn.commit()\n",
        "\n",
        "cursor.close()\n",
        "conn.close()\n",
        "\n"
      ]
    }
  ]
}